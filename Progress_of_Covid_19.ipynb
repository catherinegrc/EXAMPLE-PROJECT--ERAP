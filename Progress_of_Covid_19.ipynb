{
  "nbformat": 4,
  "nbformat_minor": 0,
  "metadata": {
    "colab": {
      "provenance": [],
      "authorship_tag": "ABX9TyNDBrw+gnlhViA1zaRn6xHn",
      "include_colab_link": true
    },
    "kernelspec": {
      "name": "python3",
      "display_name": "Python 3"
    },
    "language_info": {
      "name": "python"
    }
  },
  "cells": [
    {
      "cell_type": "markdown",
      "metadata": {
        "id": "view-in-github",
        "colab_type": "text"
      },
      "source": [
        "<a href=\"https://colab.research.google.com/github/catherinegrc/EXAMPLE-PROJECT-ERAP/blob/main/Progress_of_Covid_19.ipynb\" target=\"_parent\"><img src=\"https://colab.research.google.com/assets/colab-badge.svg\" alt=\"Open In Colab\"/></a>"
      ]
    },
    {
      "cell_type": "markdown",
      "source": [
        "# **Progress of Poverty in the Philippines Erased by Covid-19**"
      ],
      "metadata": {
        "id": "1mbT0FtPvk7D"
      }
    },
    {
      "cell_type": "markdown",
      "source": [
        "# *Importing all the libraries needed in the analysis*"
      ],
      "metadata": {
        "id": "DfpaX7quv91O"
      }
    },
    {
      "cell_type": "code",
      "source": [
        "import numpy as np\n",
        "import pandas as pd\n",
        "from matplotlib import pyplot as plt\n",
        "import csv"
      ],
      "metadata": {
        "id": "ynsTJO3wwGOI"
      },
      "execution_count": 3,
      "outputs": []
    },
    {
      "cell_type": "markdown",
      "source": [
        "# *Uploading the datasets (.csv files)*"
      ],
      "metadata": {
        "id": "jOti1yRIwLGW"
      }
    },
    {
      "cell_type": "code",
      "source": [
        "education_status = 'https://raw.githubusercontent.com/catherinegrc/EXAMPLE-PROJECT-ERAP/main/data%20sets/covid19_Education_status.csv'\n",
        "employment_status = 'https://raw.githubusercontent.com/catherinegrc/EXAMPLE-PROJECT-ERAP/main/data%20sets/covid19_employment_status.csv'\n",
        "financial_situation = 'https://raw.githubusercontent.com/catherinegrc/EXAMPLE-PROJECT-ERAP/main/data%20sets/covid19_financial_situation.csv'\n",
        "geography = 'https://raw.githubusercontent.com/catherinegrc/EXAMPLE-PROJECT-ERAP/main/data%20sets/covid19_geography.csv'\n",
        "employment_data = 'https://raw.githubusercontent.com/catherinegrc/EXAMPLE-PROJECT-ERAP/main/data%20sets/employment_data.csv'"
      ],
      "metadata": {
        "id": "CDJK_I4qwO2n"
      },
      "execution_count": 47,
      "outputs": []
    },
    {
      "cell_type": "markdown",
      "source": [
        "# *Reading and Printing the datasets(.csv files)*"
      ],
      "metadata": {
        "id": "EOa06pUKzQSM"
      }
    },
    {
      "cell_type": "code",
      "source": [
        "educationstatus = pd.read_csv(education_status)\n",
        "employmentstatus = pd.read_csv(employment_status)\n",
        "financial = pd.read_csv(financial_situation)\n",
        "geography = pd.read_csv(geography)\n",
        "employmentdata = pd.read_csv(employment_data)"
      ],
      "metadata": {
        "id": "FAEeQbc2zT3Q"
      },
      "execution_count": 48,
      "outputs": []
    },
    {
      "cell_type": "markdown",
      "source": [
        "# *Renaming Employment Status Header*"
      ],
      "metadata": {
        "id": "OH1IWYVA_UVs"
      }
    },
    {
      "cell_type": "code",
      "source": [
        "employmentstatus.rename(columns={'gender' : 'Gender', 'age' : 'Age', 'employment_status' : 'EmploymentStatus'}, inplace=True)"
      ],
      "metadata": {
        "id": "bnIduWve165w"
      },
      "execution_count": 49,
      "outputs": []
    }
  ]
}